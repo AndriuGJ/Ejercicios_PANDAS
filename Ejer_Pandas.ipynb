{
  "nbformat": 4,
  "nbformat_minor": 0,
  "metadata": {
    "colab": {
      "provenance": [],
      "authorship_tag": "ABX9TyPLTDAdpdL/P5HPUZjCAOO7",
      "include_colab_link": true
    },
    "kernelspec": {
      "name": "python3",
      "display_name": "Python 3"
    },
    "language_info": {
      "name": "python"
    }
  },
  "cells": [
    {
      "cell_type": "markdown",
      "metadata": {
        "id": "view-in-github",
        "colab_type": "text"
      },
      "source": [
        "<a href=\"https://colab.research.google.com/github/AndriuGJ/Ejercicios_PANDAS/blob/main/Ejer_Pandas.ipynb\" target=\"_parent\"><img src=\"https://colab.research.google.com/assets/colab-badge.svg\" alt=\"Open In Colab\"/></a>"
      ]
    },
    {
      "cell_type": "code",
      "execution_count": 1,
      "metadata": {
        "id": "8mGaR2uGxqSu"
      },
      "outputs": [],
      "source": [
        "import pandas as pd"
      ]
    },
    {
      "cell_type": "markdown",
      "source": [
        "EJERCICIO 1"
      ],
      "metadata": {
        "id": "zmb3lfuu0SLR"
      }
    },
    {
      "cell_type": "code",
      "source": [
        "# Solicitar rango de años\n",
        "inicio = int(input(\"Ingrese el año inicial: \"))\n",
        "fin = int(input(\"Ingrese el año final: \"))\n",
        "años = list(range(inicio, fin + 1))\n",
        "\n",
        "# Solicitar ventas para cada año\n",
        "ventas = []\n",
        "for año in años:\n",
        "    venta = float(input(f\"Ingrese las ventas para el año {año}: \"))\n",
        "    ventas.append(venta)\n",
        "\n",
        "# Crear Serie con las ventas\n",
        "serie_ventas = pd.Series(ventas, index=años)\n",
        "print(\"\\nVentas sin descuento:\\n\", serie_ventas)\n",
        "\n",
        "# Aplicar descuento del 10%\n",
        "serie_descuento = serie_ventas * 0.9\n",
        "print(\"\\nVentas con descuento del 10%:\\n\", serie_descuento)\n"
      ],
      "metadata": {
        "colab": {
          "base_uri": "https://localhost:8080/"
        },
        "id": "qj68slAl04P_",
        "outputId": "9af0fed2-322b-4e70-8ed0-4618053c9579"
      },
      "execution_count": 3,
      "outputs": [
        {
          "output_type": "stream",
          "name": "stdout",
          "text": [
            "Ingrese el año inicial: 2020\n",
            "Ingrese el año final: 2023\n",
            "Ingrese las ventas para el año 2020: 1200\n",
            "Ingrese las ventas para el año 2021: 1200\n",
            "Ingrese las ventas para el año 2022: 1500\n",
            "Ingrese las ventas para el año 2023: 1700\n",
            "\n",
            "Ventas sin descuento:\n",
            " 2020    1200.0\n",
            "2021    1200.0\n",
            "2022    1500.0\n",
            "2023    1700.0\n",
            "dtype: float64\n",
            "\n",
            "Ventas con descuento del 10%:\n",
            " 2020    1080.0\n",
            "2021    1080.0\n",
            "2022    1350.0\n",
            "2023    1530.0\n",
            "dtype: float64\n"
          ]
        }
      ]
    },
    {
      "cell_type": "markdown",
      "source": [
        "EJERCICIO 2 ->\n",
        "Escribir una función que reciba un diccionario con las notas de los alumnos de un curso y devuelva\n",
        "una serie con la nota mínima, la máxima, media y la desviación típica."
      ],
      "metadata": {
        "id": "928l98r-1fOv"
      }
    },
    {
      "cell_type": "code",
      "source": [
        "df = pd.read_csv('misDatosCSV.csv')\n",
        "\n",
        "# Convertir a diccionario\n",
        "notas_dict = dict(zip(df['Alumno'], df['Nota']))\n",
        "\n",
        "def estadisticas_notas(notas):\n",
        "    serie = pd.Series(notas)\n",
        "    return pd.Series({\n",
        "        'Mínima': serie.min(),\n",
        "        'Máxima': serie.max(),\n",
        "        'Media': serie.mean(),\n",
        "        'Desviación típica': serie.std()\n",
        "    })\n",
        "\n",
        "# Llamar a la función\n",
        "resultado = estadisticas_notas(notas_dict)\n",
        "print(\"Estadísticas de las notas:\\n\", resultado)"
      ],
      "metadata": {
        "colab": {
          "base_uri": "https://localhost:8080/"
        },
        "id": "QOKtmRug1qI_",
        "outputId": "c3832bdf-30fa-40c6-a93d-aa7c4fe12685"
      },
      "execution_count": 4,
      "outputs": [
        {
          "output_type": "stream",
          "name": "stdout",
          "text": [
            "Estadísticas de las notas:\n",
            " Mínima                6.000000\n",
            "Máxima               10.000000\n",
            "Media                 8.250000\n",
            "Desviación típica     1.707825\n",
            "dtype: float64\n"
          ]
        }
      ]
    },
    {
      "cell_type": "markdown",
      "source": [
        "EJERCICIO 3 ->\n",
        "Escribir una función que reciba un diccionario con las notas de los alumnos de un curso y devuelva\n",
        "una serie con las notas de los alumnos aprobados ordenadas de mayor a menor."
      ],
      "metadata": {
        "id": "9dWIvB_R2GyO"
      }
    },
    {
      "cell_type": "code",
      "source": [
        "df = pd.read_csv('misDatosCSV.csv')\n",
        "\n",
        "# Convertir a diccionario\n",
        "notas_dict = dict(zip(df['Alumno'], df['Nota']))\n",
        "\n",
        "def notas_aprobados(notas):\n",
        "    serie = pd.Series(notas)\n",
        "    aprobados = serie[serie >= 7].sort_values(ascending=False)\n",
        "    return aprobados\n",
        "\n",
        "# Llamar a la función\n",
        "resultado = notas_aprobados(notas_dict)\n",
        "print(\"Notas de alumnos aprobados (ordenadas de mayor a menor):\\n\", resultado)"
      ],
      "metadata": {
        "colab": {
          "base_uri": "https://localhost:8080/"
        },
        "id": "ntKgkMbw2NwQ",
        "outputId": "f6cf2906-aeea-499b-ec64-4248c9d47159"
      },
      "execution_count": 5,
      "outputs": [
        {
          "output_type": "stream",
          "name": "stdout",
          "text": [
            "Notas de alumnos aprobados (ordenadas de mayor a menor):\n",
            " Eva      10\n",
            "Lucia     9\n",
            "M Mar     8\n",
            "dtype: int64\n"
          ]
        }
      ]
    },
    {
      "cell_type": "markdown",
      "source": [
        "EJERCICIO 4 -> Escribir programa que genere y muestre por pantalla un DataFrame con los datos de la tabla\n",
        "siguiente:\n",
        "Mes Ventas Gastos\n",
        "Enero 30500 22000\n",
        "Febrero 35600 23400\n",
        "Marzo 28300 18100\n",
        "Abril\n",
        "33900 20700"
      ],
      "metadata": {
        "id": "MAuSVvsB2dcv"
      }
    },
    {
      "cell_type": "code",
      "source": [
        "datos = {\n",
        "    'Mes': ['Enero', 'Febrero', 'Marzo', 'Abril'],\n",
        "    'Ventas': [30500, 35600, 28300, 33900],\n",
        "    'Gastos': [22000, 23400, 18100, 20700]\n",
        "}\n",
        "df = pd.DataFrame(datos)\n",
        "print(\"DataFrame con los datos:\\n\", df)"
      ],
      "metadata": {
        "colab": {
          "base_uri": "https://localhost:8080/"
        },
        "id": "J8z6OkVG2oC4",
        "outputId": "f873e5fb-d3af-4a26-aead-7e69a83513ac"
      },
      "execution_count": 6,
      "outputs": [
        {
          "output_type": "stream",
          "name": "stdout",
          "text": [
            "DataFrame con los datos:\n",
            "        Mes  Ventas  Gastos\n",
            "0    Enero   30500   22000\n",
            "1  Febrero   35600   23400\n",
            "2    Marzo   28300   18100\n",
            "3    Abril   33900   20700\n"
          ]
        }
      ]
    },
    {
      "cell_type": "markdown",
      "source": [
        "EJERCICIO 5 -> Escribir una función que reciba un DataFrame con el formato del ejercicio anterior, una lista de\n",
        "meses, y devuelva el balance (ventas - gastos) total en los meses indicados."
      ],
      "metadata": {
        "id": "kK--CaAK2zY2"
      }
    },
    {
      "cell_type": "code",
      "source": [
        "datos = {\n",
        "    'Mes': ['Enero', 'Febrero', 'Marzo', 'Abril'],\n",
        "    'Ventas': [30500, 35600, 28300, 33900],\n",
        "    'Gastos': [22000, 23400, 18100, 20700]\n",
        "}\n",
        "df = pd.DataFrame(datos)\n",
        "\n",
        "def calcular_balance(df, meses):\n",
        "    # Filtrar los meses indicados\n",
        "    df_filtrado = df[df['Mes'].isin(meses)].copy()\n",
        "    # Calcular balance (Ventas - Gastos)\n",
        "    df_filtrado.loc[:, 'Balance'] = df_filtrado['Ventas'] - df_filtrado['Gastos']\n",
        "    # Sumar el balance total\n",
        "    balance_total = df_filtrado['Balance'].sum()\n",
        "    return balance_total\n",
        "\n",
        "# Ejemplo de uso\n",
        "meses = ['Enero', 'Marzo']\n",
        "resultado = calcular_balance(df, meses)\n",
        "print(f\"Balance total para {meses}: {resultado}\")"
      ],
      "metadata": {
        "colab": {
          "base_uri": "https://localhost:8080/"
        },
        "id": "2kYEeQQI248-",
        "outputId": "7524f0ba-69c5-4153-c9f0-757e43fc91ae"
      },
      "execution_count": 8,
      "outputs": [
        {
          "output_type": "stream",
          "name": "stdout",
          "text": [
            "Balance total para ['Enero', 'Marzo']: 18700\n"
          ]
        }
      ]
    },
    {
      "cell_type": "markdown",
      "source": [
        "EJERCICIO 6 -> El fichero cotizacion.csv contiene las cotizaciones de las empresas del IBEX35 con las siguientes\n",
        "columnas: nombre (nombre de la empresa), Final (precio de la acción al cierre de bolsa), Máximo\n",
        "(precio máximo de la acción durante la jornada), Mínimo (precio mínimo de la acción durante la\n",
        "jornada), volumen (Volumen al cierre de bolsa), Efectivo (capitalización al cierre en miles de euros).\n",
        "Construir una función que construya un DataFrame a partir del un fichero con el formato anterior y\n",
        "devuelva otro DataFrame con el mínimo, el máximo y la media de dada columna."
      ],
      "metadata": {
        "id": "F4dK7hHc3UNX"
      }
    },
    {
      "cell_type": "code",
      "source": [
        "datos = {\n",
        "    'nombre': ['EmpresaA', 'EmpresaB', 'EmpresaC'],\n",
        "    'Final': [100.5, 200.75, 150.25],\n",
        "    'Máximo': [110.0, 210.0, 155.0],\n",
        "    'Mínimo': [95.0, 190.0, 145.0],\n",
        "    'volumen': [1000, 2000, 1500],\n",
        "    'Efectivo': [50000, 100000, 75000]\n",
        "}\n",
        "df = pd.DataFrame(datos)\n",
        "\n",
        "def estadisticas_cotizaciones(df):\n",
        "    numericas = df.select_dtypes(include=['float64', 'int64'])\n",
        "    resultado = pd.DataFrame({\n",
        "        'Mínimo': numericas.min(),\n",
        "        'Máximo': numericas.max(),\n",
        "        'Media': numericas.mean()\n",
        "    })\n",
        "    return resultado\n",
        "resultado = estadisticas_cotizaciones(df)\n",
        "print(\"Estadísticas de las cotizaciones:\\n\", resultado)"
      ],
      "metadata": {
        "colab": {
          "base_uri": "https://localhost:8080/"
        },
        "id": "fhQlL4uI3pgW",
        "outputId": "03bfc4e0-a341-4009-de04-51182f939857"
      },
      "execution_count": 9,
      "outputs": [
        {
          "output_type": "stream",
          "name": "stdout",
          "text": [
            "Estadísticas de las cotizaciones:\n",
            "            Mínimo     Máximo         Media\n",
            "Final       100.5     200.75    150.500000\n",
            "Máximo      110.0     210.00    158.333333\n",
            "Mínimo       95.0     190.00    143.333333\n",
            "volumen    1000.0    2000.00   1500.000000\n",
            "Efectivo  50000.0  100000.00  75000.000000\n"
          ]
        }
      ]
    },
    {
      "cell_type": "markdown",
      "source": [
        "EJERCICIO 7 -> El fichero titanic.csv contiene información sobre los pasajeros del Titanic. Escribir un programa con\n",
        "los siguientes requisitos:\n",
        "Generar un DataFrame con los datos del fichero.\n",
        "Mostrar por pantalla las dimensiones del DataFrame, el número de datos que contiene, los nombres\n",
        "de sus columnas y filas, los tipos de datos de las columnas, las 10 primeras filas y las 10 últimas filas\n",
        "Mostrar por pantalla los datos del pasajero con identificador 148.\n",
        "Mostrar por pantalla las filas pares del DataFrame.\n",
        "Mostrar por pantalla los nombres de las personas que iban en primera clase ordenadas\n",
        "alfabéticamente.\n",
        "Mostrar por pantalla el porcentaje de personas que sobrevivieron y murieron.\n",
        "Mostrar por pantalla el porcentaje de personas que sobrevivieron en cada clase.\n",
        "Eliminar del DataFrame los pasajeros con edad desconocida.\n",
        "Mostrar por pantalla la edad media de las mujeres que viajaban en cada clase.\n",
        "Añadir una nueva columna booleana para ver si el pasajero era menor de edad o no.\n",
        "Mostrar por pantalla el porcentaje de menores y mayores de edad que sobrevivieron en cada clase."
      ],
      "metadata": {
        "id": "KKvFpNz_3ztV"
      }
    },
    {
      "cell_type": "code",
      "source": [
        "import pandas as pd\n",
        "\n",
        "df = pd.read_csv('titanic.csv')\n",
        "\n",
        "# 1. Dimensiones del DataFrame\n",
        "print(\"Dimensiones del DataFrame:\", df.shape)\n",
        "\n",
        "# 2. Número de datos\n",
        "print(\"\\nNúmero de datos:\", df.size)\n",
        "\n",
        "# 3. Nombres de columnas\n",
        "print(\"\\nNombres de columnas:\", df.columns.tolist())\n",
        "\n",
        "# 4. Nombres de filas (índices)\n",
        "print(\"\\nÍndices de filas:\", df.index.tolist())\n",
        "\n",
        "# 5. Tipos de datos de las columnas\n",
        "print(\"\\nTipos de datos:\\n\", df.dtypes)\n",
        "\n",
        "# 6. Primeras 10 filas\n",
        "print(\"\\nPrimeras 10 filas:\\n\", df.head(10))\n",
        "\n",
        "# 7. Últimas 10 filas\n",
        "print(\"\\nÚltimas 10 filas:\\n\", df.tail(10))\n",
        "\n",
        "# 8. Datos del pasajero con ID 148\n",
        "print(\"\\nPasajero con ID 148:\\n\", df[df['PassengerId'] == 148])\n",
        "\n",
        "# 9. Filas pares (índices pares)\n",
        "print(\"\\nFilas pares:\\n\", df.iloc[::2])\n",
        "\n",
        "# 10. Nombres de personas en primera clase, ordenados alfabéticamente\n",
        "primera_clase = df[df['Pclass'] == 1][['Name']].sort_values(by='Name')\n",
        "print(\"\\nNombres en primera clase (ordenados):\\n\", primera_clase)\n",
        "\n",
        "# 11. Porcentaje de personas que sobrevivieron y murieron\n",
        "porcentaje_sobrevivientes = df['Survived'].value_counts(normalize=True) * 100\n",
        "print(\"\\nPorcentaje de sobrevivientes y fallecidos:\\n\", porcentaje_sobrevivientes)\n",
        "\n",
        "# 12. Porcentaje de personas que sobrevivieron en cada clase\n",
        "porcentaje_por_clase = df.groupby('Pclass')['Survived'].mean() * 100\n",
        "print(\"\\nPorcentaje de sobrevivientes por clase:\\n\", porcentaje_por_clase)\n",
        "\n",
        "# 13. Eliminar pasajeros con edad desconocida\n",
        "df_sin_edad = df.dropna(subset=['Age'])\n",
        "print(\"\\nDataFrame sin edades desconocidas (primeras 5 filas):\\n\", df_sin_edad.head())\n",
        "\n",
        "# 14. Edad media de las mujeres por clase\n",
        "mujeres = df[df['Sex'] == 'female']\n",
        "edad_media_mujeres = mujeres.groupby('Pclass')['Age'].mean()\n",
        "print(\"\\nEdad media de mujeres por clase:\\n\", edad_media_mujeres)\n",
        "\n",
        "# 15. Añadir columna booleana para menor de edad (<18)\n",
        "df['MenorEdad'] = df['Age'] < 18\n",
        "print(\"\\nDataFrame con columna MenorEdad (primeras 5 filas):\\n\", df[['PassengerId', 'Name', 'Age', 'MenorEdad']].head())\n",
        "\n",
        "# 16. Porcentaje de menores y mayores que sobrevivieron en cada clase\n",
        "df['EdadGrupo'] = df['MenorEdad'].map({True: 'Menor', False: 'Mayor'})\n",
        "porcentaje_sobrevivientes_edad = df.groupby(['Pclass', 'EdadGrupo'])['Survived'].mean() * 100\n",
        "print(\"\\nPorcentaje de sobrevivientes por clase y grupo de edad:\\n\", porcentaje_sobrevivientes_edad)"
      ],
      "metadata": {
        "colab": {
          "base_uri": "https://localhost:8080/"
        },
        "id": "smsJU29B36JP",
        "outputId": "0485ef36-2291-4f96-badd-04745dcf9379"
      },
      "execution_count": 10,
      "outputs": [
        {
          "output_type": "stream",
          "name": "stdout",
          "text": [
            "Dimensiones del DataFrame: (891, 12)\n",
            "\n",
            "Número de datos: 10692\n",
            "\n",
            "Nombres de columnas: ['PassengerId', 'Survived', 'Pclass', 'Name', 'Sex', 'Age', 'SibSp', 'Parch', 'Ticket', 'Fare', 'Cabin', 'Embarked']\n",
            "\n",
            "Índices de filas: [0, 1, 2, 3, 4, 5, 6, 7, 8, 9, 10, 11, 12, 13, 14, 15, 16, 17, 18, 19, 20, 21, 22, 23, 24, 25, 26, 27, 28, 29, 30, 31, 32, 33, 34, 35, 36, 37, 38, 39, 40, 41, 42, 43, 44, 45, 46, 47, 48, 49, 50, 51, 52, 53, 54, 55, 56, 57, 58, 59, 60, 61, 62, 63, 64, 65, 66, 67, 68, 69, 70, 71, 72, 73, 74, 75, 76, 77, 78, 79, 80, 81, 82, 83, 84, 85, 86, 87, 88, 89, 90, 91, 92, 93, 94, 95, 96, 97, 98, 99, 100, 101, 102, 103, 104, 105, 106, 107, 108, 109, 110, 111, 112, 113, 114, 115, 116, 117, 118, 119, 120, 121, 122, 123, 124, 125, 126, 127, 128, 129, 130, 131, 132, 133, 134, 135, 136, 137, 138, 139, 140, 141, 142, 143, 144, 145, 146, 147, 148, 149, 150, 151, 152, 153, 154, 155, 156, 157, 158, 159, 160, 161, 162, 163, 164, 165, 166, 167, 168, 169, 170, 171, 172, 173, 174, 175, 176, 177, 178, 179, 180, 181, 182, 183, 184, 185, 186, 187, 188, 189, 190, 191, 192, 193, 194, 195, 196, 197, 198, 199, 200, 201, 202, 203, 204, 205, 206, 207, 208, 209, 210, 211, 212, 213, 214, 215, 216, 217, 218, 219, 220, 221, 222, 223, 224, 225, 226, 227, 228, 229, 230, 231, 232, 233, 234, 235, 236, 237, 238, 239, 240, 241, 242, 243, 244, 245, 246, 247, 248, 249, 250, 251, 252, 253, 254, 255, 256, 257, 258, 259, 260, 261, 262, 263, 264, 265, 266, 267, 268, 269, 270, 271, 272, 273, 274, 275, 276, 277, 278, 279, 280, 281, 282, 283, 284, 285, 286, 287, 288, 289, 290, 291, 292, 293, 294, 295, 296, 297, 298, 299, 300, 301, 302, 303, 304, 305, 306, 307, 308, 309, 310, 311, 312, 313, 314, 315, 316, 317, 318, 319, 320, 321, 322, 323, 324, 325, 326, 327, 328, 329, 330, 331, 332, 333, 334, 335, 336, 337, 338, 339, 340, 341, 342, 343, 344, 345, 346, 347, 348, 349, 350, 351, 352, 353, 354, 355, 356, 357, 358, 359, 360, 361, 362, 363, 364, 365, 366, 367, 368, 369, 370, 371, 372, 373, 374, 375, 376, 377, 378, 379, 380, 381, 382, 383, 384, 385, 386, 387, 388, 389, 390, 391, 392, 393, 394, 395, 396, 397, 398, 399, 400, 401, 402, 403, 404, 405, 406, 407, 408, 409, 410, 411, 412, 413, 414, 415, 416, 417, 418, 419, 420, 421, 422, 423, 424, 425, 426, 427, 428, 429, 430, 431, 432, 433, 434, 435, 436, 437, 438, 439, 440, 441, 442, 443, 444, 445, 446, 447, 448, 449, 450, 451, 452, 453, 454, 455, 456, 457, 458, 459, 460, 461, 462, 463, 464, 465, 466, 467, 468, 469, 470, 471, 472, 473, 474, 475, 476, 477, 478, 479, 480, 481, 482, 483, 484, 485, 486, 487, 488, 489, 490, 491, 492, 493, 494, 495, 496, 497, 498, 499, 500, 501, 502, 503, 504, 505, 506, 507, 508, 509, 510, 511, 512, 513, 514, 515, 516, 517, 518, 519, 520, 521, 522, 523, 524, 525, 526, 527, 528, 529, 530, 531, 532, 533, 534, 535, 536, 537, 538, 539, 540, 541, 542, 543, 544, 545, 546, 547, 548, 549, 550, 551, 552, 553, 554, 555, 556, 557, 558, 559, 560, 561, 562, 563, 564, 565, 566, 567, 568, 569, 570, 571, 572, 573, 574, 575, 576, 577, 578, 579, 580, 581, 582, 583, 584, 585, 586, 587, 588, 589, 590, 591, 592, 593, 594, 595, 596, 597, 598, 599, 600, 601, 602, 603, 604, 605, 606, 607, 608, 609, 610, 611, 612, 613, 614, 615, 616, 617, 618, 619, 620, 621, 622, 623, 624, 625, 626, 627, 628, 629, 630, 631, 632, 633, 634, 635, 636, 637, 638, 639, 640, 641, 642, 643, 644, 645, 646, 647, 648, 649, 650, 651, 652, 653, 654, 655, 656, 657, 658, 659, 660, 661, 662, 663, 664, 665, 666, 667, 668, 669, 670, 671, 672, 673, 674, 675, 676, 677, 678, 679, 680, 681, 682, 683, 684, 685, 686, 687, 688, 689, 690, 691, 692, 693, 694, 695, 696, 697, 698, 699, 700, 701, 702, 703, 704, 705, 706, 707, 708, 709, 710, 711, 712, 713, 714, 715, 716, 717, 718, 719, 720, 721, 722, 723, 724, 725, 726, 727, 728, 729, 730, 731, 732, 733, 734, 735, 736, 737, 738, 739, 740, 741, 742, 743, 744, 745, 746, 747, 748, 749, 750, 751, 752, 753, 754, 755, 756, 757, 758, 759, 760, 761, 762, 763, 764, 765, 766, 767, 768, 769, 770, 771, 772, 773, 774, 775, 776, 777, 778, 779, 780, 781, 782, 783, 784, 785, 786, 787, 788, 789, 790, 791, 792, 793, 794, 795, 796, 797, 798, 799, 800, 801, 802, 803, 804, 805, 806, 807, 808, 809, 810, 811, 812, 813, 814, 815, 816, 817, 818, 819, 820, 821, 822, 823, 824, 825, 826, 827, 828, 829, 830, 831, 832, 833, 834, 835, 836, 837, 838, 839, 840, 841, 842, 843, 844, 845, 846, 847, 848, 849, 850, 851, 852, 853, 854, 855, 856, 857, 858, 859, 860, 861, 862, 863, 864, 865, 866, 867, 868, 869, 870, 871, 872, 873, 874, 875, 876, 877, 878, 879, 880, 881, 882, 883, 884, 885, 886, 887, 888, 889, 890]\n",
            "\n",
            "Tipos de datos:\n",
            " PassengerId      int64\n",
            "Survived         int64\n",
            "Pclass           int64\n",
            "Name            object\n",
            "Sex             object\n",
            "Age            float64\n",
            "SibSp            int64\n",
            "Parch            int64\n",
            "Ticket          object\n",
            "Fare           float64\n",
            "Cabin           object\n",
            "Embarked        object\n",
            "dtype: object\n",
            "\n",
            "Primeras 10 filas:\n",
            "    PassengerId  Survived  Pclass  \\\n",
            "0            1         0       3   \n",
            "1            2         1       1   \n",
            "2            3         1       3   \n",
            "3            4         1       1   \n",
            "4            5         0       3   \n",
            "5            6         0       3   \n",
            "6            7         0       1   \n",
            "7            8         0       3   \n",
            "8            9         1       3   \n",
            "9           10         1       2   \n",
            "\n",
            "                                                Name     Sex   Age  SibSp  \\\n",
            "0                            Braund, Mr. Owen Harris    male  22.0      1   \n",
            "1  Cumings, Mrs. John Bradley (Florence Briggs Th...  female  38.0      1   \n",
            "2                             Heikkinen, Miss. Laina  female  26.0      0   \n",
            "3       Futrelle, Mrs. Jacques Heath (Lily May Peel)  female  35.0      1   \n",
            "4                           Allen, Mr. William Henry    male  35.0      0   \n",
            "5                                   Moran, Mr. James    male   NaN      0   \n",
            "6                            McCarthy, Mr. Timothy J    male  54.0      0   \n",
            "7                     Palsson, Master. Gosta Leonard    male   2.0      3   \n",
            "8  Johnson, Mrs. Oscar W (Elisabeth Vilhelmina Berg)  female  27.0      0   \n",
            "9                Nasser, Mrs. Nicholas (Adele Achem)  female  14.0      1   \n",
            "\n",
            "   Parch            Ticket     Fare Cabin Embarked  \n",
            "0      0         A/5 21171   7.2500   NaN        S  \n",
            "1      0          PC 17599  71.2833   C85        C  \n",
            "2      0  STON/O2. 3101282   7.9250   NaN        S  \n",
            "3      0            113803  53.1000  C123        S  \n",
            "4      0            373450   8.0500   NaN        S  \n",
            "5      0            330877   8.4583   NaN        Q  \n",
            "6      0             17463  51.8625   E46        S  \n",
            "7      1            349909  21.0750   NaN        S  \n",
            "8      2            347742  11.1333   NaN        S  \n",
            "9      0            237736  30.0708   NaN        C  \n",
            "\n",
            "Últimas 10 filas:\n",
            "      PassengerId  Survived  Pclass                                      Name  \\\n",
            "881          882         0       3                        Markun, Mr. Johann   \n",
            "882          883         0       3              Dahlberg, Miss. Gerda Ulrika   \n",
            "883          884         0       2             Banfield, Mr. Frederick James   \n",
            "884          885         0       3                    Sutehall, Mr. Henry Jr   \n",
            "885          886         0       3      Rice, Mrs. William (Margaret Norton)   \n",
            "886          887         0       2                     Montvila, Rev. Juozas   \n",
            "887          888         1       1              Graham, Miss. Margaret Edith   \n",
            "888          889         0       3  Johnston, Miss. Catherine Helen \"Carrie\"   \n",
            "889          890         1       1                     Behr, Mr. Karl Howell   \n",
            "890          891         0       3                       Dooley, Mr. Patrick   \n",
            "\n",
            "        Sex   Age  SibSp  Parch            Ticket     Fare Cabin Embarked  \n",
            "881    male  33.0      0      0            349257   7.8958   NaN        S  \n",
            "882  female  22.0      0      0              7552  10.5167   NaN        S  \n",
            "883    male  28.0      0      0  C.A./SOTON 34068  10.5000   NaN        S  \n",
            "884    male  25.0      0      0   SOTON/OQ 392076   7.0500   NaN        S  \n",
            "885  female  39.0      0      5            382652  29.1250   NaN        Q  \n",
            "886    male  27.0      0      0            211536  13.0000   NaN        S  \n",
            "887  female  19.0      0      0            112053  30.0000   B42        S  \n",
            "888  female   NaN      1      2        W./C. 6607  23.4500   NaN        S  \n",
            "889    male  26.0      0      0            111369  30.0000  C148        C  \n",
            "890    male  32.0      0      0            370376   7.7500   NaN        Q  \n",
            "\n",
            "Pasajero con ID 148:\n",
            "      PassengerId  Survived  Pclass                              Name     Sex  \\\n",
            "147          148         0       3  Ford, Miss. Robina Maggie \"Ruby\"  female   \n",
            "\n",
            "     Age  SibSp  Parch      Ticket    Fare Cabin Embarked  \n",
            "147  9.0      2      2  W./C. 6608  34.375   NaN        S  \n",
            "\n",
            "Filas pares:\n",
            "      PassengerId  Survived  Pclass  \\\n",
            "0              1         0       3   \n",
            "2              3         1       3   \n",
            "4              5         0       3   \n",
            "6              7         0       1   \n",
            "8              9         1       3   \n",
            "..           ...       ...     ...   \n",
            "882          883         0       3   \n",
            "884          885         0       3   \n",
            "886          887         0       2   \n",
            "888          889         0       3   \n",
            "890          891         0       3   \n",
            "\n",
            "                                                  Name     Sex   Age  SibSp  \\\n",
            "0                              Braund, Mr. Owen Harris    male  22.0      1   \n",
            "2                               Heikkinen, Miss. Laina  female  26.0      0   \n",
            "4                             Allen, Mr. William Henry    male  35.0      0   \n",
            "6                              McCarthy, Mr. Timothy J    male  54.0      0   \n",
            "8    Johnson, Mrs. Oscar W (Elisabeth Vilhelmina Berg)  female  27.0      0   \n",
            "..                                                 ...     ...   ...    ...   \n",
            "882                       Dahlberg, Miss. Gerda Ulrika  female  22.0      0   \n",
            "884                             Sutehall, Mr. Henry Jr    male  25.0      0   \n",
            "886                              Montvila, Rev. Juozas    male  27.0      0   \n",
            "888           Johnston, Miss. Catherine Helen \"Carrie\"  female   NaN      1   \n",
            "890                                Dooley, Mr. Patrick    male  32.0      0   \n",
            "\n",
            "     Parch            Ticket     Fare Cabin Embarked  \n",
            "0        0         A/5 21171   7.2500   NaN        S  \n",
            "2        0  STON/O2. 3101282   7.9250   NaN        S  \n",
            "4        0            373450   8.0500   NaN        S  \n",
            "6        0             17463  51.8625   E46        S  \n",
            "8        2            347742  11.1333   NaN        S  \n",
            "..     ...               ...      ...   ...      ...  \n",
            "882      0              7552  10.5167   NaN        S  \n",
            "884      0   SOTON/OQ 392076   7.0500   NaN        S  \n",
            "886      0            211536  13.0000   NaN        S  \n",
            "888      2        W./C. 6607  23.4500   NaN        S  \n",
            "890      0            370376   7.7500   NaN        Q  \n",
            "\n",
            "[446 rows x 12 columns]\n",
            "\n",
            "Nombres en primera clase (ordenados):\n",
            "                                                 Name\n",
            "730                    Allen, Miss. Elisabeth Walton\n",
            "305                   Allison, Master. Hudson Trevor\n",
            "297                     Allison, Miss. Helen Loraine\n",
            "498  Allison, Mrs. Hudson J C (Bessie Waldo Daniels)\n",
            "460                              Anderson, Mr. Harry\n",
            "..                                               ...\n",
            "155                      Williams, Mr. Charles Duane\n",
            "351           Williams-Lambert, Mr. Fletcher Fellows\n",
            "55                                 Woolner, Mr. Hugh\n",
            "555                               Wright, Mr. George\n",
            "325                         Young, Miss. Marie Grice\n",
            "\n",
            "[216 rows x 1 columns]\n",
            "\n",
            "Porcentaje de sobrevivientes y fallecidos:\n",
            " Survived\n",
            "0    61.616162\n",
            "1    38.383838\n",
            "Name: proportion, dtype: float64\n",
            "\n",
            "Porcentaje de sobrevivientes por clase:\n",
            " Pclass\n",
            "1    62.962963\n",
            "2    47.282609\n",
            "3    24.236253\n",
            "Name: Survived, dtype: float64\n",
            "\n",
            "DataFrame sin edades desconocidas (primeras 5 filas):\n",
            "    PassengerId  Survived  Pclass  \\\n",
            "0            1         0       3   \n",
            "1            2         1       1   \n",
            "2            3         1       3   \n",
            "3            4         1       1   \n",
            "4            5         0       3   \n",
            "\n",
            "                                                Name     Sex   Age  SibSp  \\\n",
            "0                            Braund, Mr. Owen Harris    male  22.0      1   \n",
            "1  Cumings, Mrs. John Bradley (Florence Briggs Th...  female  38.0      1   \n",
            "2                             Heikkinen, Miss. Laina  female  26.0      0   \n",
            "3       Futrelle, Mrs. Jacques Heath (Lily May Peel)  female  35.0      1   \n",
            "4                           Allen, Mr. William Henry    male  35.0      0   \n",
            "\n",
            "   Parch            Ticket     Fare Cabin Embarked  \n",
            "0      0         A/5 21171   7.2500   NaN        S  \n",
            "1      0          PC 17599  71.2833   C85        C  \n",
            "2      0  STON/O2. 3101282   7.9250   NaN        S  \n",
            "3      0            113803  53.1000  C123        S  \n",
            "4      0            373450   8.0500   NaN        S  \n",
            "\n",
            "Edad media de mujeres por clase:\n",
            " Pclass\n",
            "1    34.611765\n",
            "2    28.722973\n",
            "3    21.750000\n",
            "Name: Age, dtype: float64\n",
            "\n",
            "DataFrame con columna MenorEdad (primeras 5 filas):\n",
            "    PassengerId                                               Name   Age  \\\n",
            "0            1                            Braund, Mr. Owen Harris  22.0   \n",
            "1            2  Cumings, Mrs. John Bradley (Florence Briggs Th...  38.0   \n",
            "2            3                             Heikkinen, Miss. Laina  26.0   \n",
            "3            4       Futrelle, Mrs. Jacques Heath (Lily May Peel)  35.0   \n",
            "4            5                           Allen, Mr. William Henry  35.0   \n",
            "\n",
            "   MenorEdad  \n",
            "0      False  \n",
            "1      False  \n",
            "2      False  \n",
            "3      False  \n",
            "4      False  \n",
            "\n",
            "Porcentaje de sobrevivientes por clase y grupo de edad:\n",
            " Pclass  EdadGrupo\n",
            "1       Mayor        61.274510\n",
            "        Menor        91.666667\n",
            "2       Mayor        40.993789\n",
            "        Menor        91.304348\n",
            "3       Mayor        21.791768\n",
            "        Menor        37.179487\n",
            "Name: Survived, dtype: float64\n"
          ]
        }
      ]
    },
    {
      "cell_type": "markdown",
      "source": [
        "EJERCICIO 8 -> Los ficheros emisiones-2016.csv, emisiones-2017.csv, emisiones-2018.csv y emisiones-2019.csv,\n",
        "contienen datos sobre las emisiones contaminates en la ciudad de Madrid en los años 2016, 2017,\n",
        "2018 y 2019 respectivamente. Escribir un programa con los siguientes requisitos:\n",
        "Generar un DataFrame con los datos de los cuatro ficheros.\n",
        "Filtrar las columnas del DataFrame para quedarse con las columnas ESTACION, MAGNITUD, AÑO,\n",
        "MES y las correspondientes a los días D01, D02, etc.\n",
        "Reestructurar el DataFrame para que los valores de los contaminantes de las columnas de los días\n",
        "aparezcan en una única columna.\n",
        "Añadir una columna con la fecha a partir de la concatenación del año, el mes y el día (usar el módulo\n",
        "datetime).\n",
        "Eliminar las filas con fechas no válidas (utilizar la función isnat del módulo numpy) y ordenar el\n",
        "DataFrame por estaciones contaminantes y fecha.\n",
        "Mostrar por pantalla las estaciones y los contaminantes disponibles en el DataFrame.\n",
        "Crear una función que reciba una estación, un contaminante y un rango de fechas y devuelva una\n",
        "serie con las emisiones del contaminante dado en la estación y rango de fechas dado.\n",
        "Mostrar un resumen descriptivo (mínimo, máximo, media, etc.) para cada contaminante.\n",
        "Mostrar un resumen descriptivo para cada contaminante por distritos.\n",
        "Crear una función que reciba una estación y un contaminante y devuelva un resumen descriptivo de\n",
        "las emisiones del contaminante indicado en la estación indicada.\n",
        "Crear una función que devuelva las emisiones medias mensuales de un contaminante y un año dados\n",
        "para todos las estaciones.\n",
        "Crear un función que reciba una estación de medición y devuelva un DataFrame con las medias\n",
        "mensuales de los distintos tipos de contaminantes."
      ],
      "metadata": {
        "id": "LvlQM3lm4Ru-"
      }
    },
    {
      "cell_type": "code",
      "source": [
        "import numpy as np\n",
        "from datetime import datetime\n",
        "\n",
        "# Datos ficticios simulando los archivos de emisiones\n",
        "datos = {\n",
        "    'ESTACION': ['Est1', 'Est1', 'Est2'],\n",
        "    'MAGNITUD': ['NO2', 'CO', 'NO2'],\n",
        "    'AÑO': [2016, 2016, 2017],\n",
        "    'MES': [1, 2, 1],\n",
        "    'D01': [10.0, 0.5, 12.0],\n",
        "    'D02': [11.0, 0.6, 13.0]\n",
        "}\n",
        "df = pd.DataFrame(datos)\n",
        "\n",
        "# 1. Combinar archivos (simulado con un solo DataFrame)\n",
        "# En un caso real: df = pd.concat([pd.read_csv(f'emisiones-{year}.csv') for year in [2016, 2017, 2018, 2019]])\n",
        "\n",
        "# 2. Filtrar columnas\n",
        "columnas_dias = [col for col in df.columns if col.startswith('D')]\n",
        "columnas = ['ESTACION', 'MAGNITUD', 'AÑO', 'MES'] + columnas_dias\n",
        "df_filtrado = df[columnas]\n",
        "\n",
        "# 3. Reestructurar DataFrame (melt)\n",
        "df_melt = pd.melt(\n",
        "    df_filtrado,\n",
        "    id_vars=['ESTACION', 'MAGNITUD', 'AÑO', 'MES'],\n",
        "    value_vars=columnas_dias,\n",
        "    var_name='DIA',\n",
        "    value_name='VALOR'\n",
        ")\n",
        "\n",
        "# 4. Añadir columna de fecha\n",
        "df_melt['DIA'] = df_melt['DIA'].str.replace('D', '').astype(int)\n",
        "# Correcting the to_datetime call to explicitly map columns\n",
        "df_melt['FECHA'] = pd.to_datetime(df_melt[['AÑO', 'MES', 'DIA']].rename(columns={'AÑO': 'year', 'MES': 'month', 'DIA': 'day'}), errors='coerce')\n",
        "\n",
        "# 5. Eliminar fechas no válidas y ordenar\n",
        "df_melt = df_melt.dropna(subset=['FECHA']).sort_values(['ESTACION', 'MAGNITUD', 'FECHA'])\n",
        "\n",
        "# 6. Mostrar estaciones y contaminantes\n",
        "print(\"Estaciones disponibles:\", df_melt['ESTACION'].unique())\n",
        "print(\"Contaminantes disponibles:\", df_melt['MAGNITUD'].unique())\n",
        "\n",
        "# 7. Resumen descriptivo por contaminante\n",
        "resumen_contaminante = df_melt.groupby('MAGNITUD')['VALOR'].describe()\n",
        "print(\"\\nResumen descriptivo por contaminante:\\n\", resumen_contaminante)\n",
        "\n",
        "# 8. Resumen descriptivo por estación\n",
        "resumen_estacion = df_melt.groupby(['ESTACION', 'MAGNITUD'])['VALOR'].describe()\n",
        "print(\"\\nResumen descriptivo por estación y contaminante:\\n\", resumen_estacion)\n",
        "\n",
        "# 9. Función para resumen de una estación y contaminante\n",
        "def resumen_emisiones(estacion, contaminante):\n",
        "    return df_melt[(df_melt['ESTACION'] == estacion) & (df_melt['MAGNITUD'] == contaminante)]['VALOR'].describe()\n",
        "\n",
        "# 10. Función para emisiones medias mensuales por contaminante y año\n",
        "def emisiones_medias_mensuales(contaminante, año):\n",
        "    return df_melt[(df_melt['MAGNITUD'] == contaminante) & (df_melt['AÑO'] == año)].groupby(['ESTACION', 'MES'])['VALOR'].mean()\n",
        "\n",
        "# 11. Función para medias mensuales por estación\n",
        "def medias_mensuales_estacion(estacion):\n",
        "    return df_melt[df_melt['ESTACION'] == estacion].groupby(['MES', 'MAGNITUD'])['VALOR'].mean().unstack()\n",
        "\n",
        "# Ejemplo de uso de las funciones\n",
        "print(\"\\nResumen para Est1, NO2:\\n\", resumen_emisiones('Est1', 'NO2'))\n",
        "print(\"\\nEmisiones medias mensuales para NO2, 2016:\\n\", emisiones_medias_mensuales('NO2', 2016))\n",
        "print(\"\\nMedias mensuales para Est1:\\n\", medias_mensuales_estacion('Est1'))"
      ],
      "metadata": {
        "colab": {
          "base_uri": "https://localhost:8080/"
        },
        "id": "p0rtpJIt4W0m",
        "outputId": "a129fc49-604d-49e7-d47d-ec8eb8c957e6"
      },
      "execution_count": 13,
      "outputs": [
        {
          "output_type": "stream",
          "name": "stdout",
          "text": [
            "Estaciones disponibles: ['Est1' 'Est2']\n",
            "Contaminantes disponibles: ['CO' 'NO2']\n",
            "\n",
            "Resumen descriptivo por contaminante:\n",
            "           count   mean       std   min     25%    50%     75%   max\n",
            "MAGNITUD                                                           \n",
            "CO          2.0   0.55  0.070711   0.5   0.525   0.55   0.575   0.6\n",
            "NO2         4.0  11.50  1.290994  10.0  10.750  11.50  12.250  13.0\n",
            "\n",
            "Resumen descriptivo por estación y contaminante:\n",
            "                    count   mean       std   min     25%    50%     75%   max\n",
            "ESTACION MAGNITUD                                                           \n",
            "Est1     CO          2.0   0.55  0.070711   0.5   0.525   0.55   0.575   0.6\n",
            "         NO2         2.0  10.50  0.707107  10.0  10.250  10.50  10.750  11.0\n",
            "Est2     NO2         2.0  12.50  0.707107  12.0  12.250  12.50  12.750  13.0\n",
            "\n",
            "Resumen para Est1, NO2:\n",
            " count     2.000000\n",
            "mean     10.500000\n",
            "std       0.707107\n",
            "min      10.000000\n",
            "25%      10.250000\n",
            "50%      10.500000\n",
            "75%      10.750000\n",
            "max      11.000000\n",
            "Name: VALOR, dtype: float64\n",
            "\n",
            "Emisiones medias mensuales para NO2, 2016:\n",
            " ESTACION  MES\n",
            "Est1      1      10.5\n",
            "Name: VALOR, dtype: float64\n",
            "\n",
            "Medias mensuales para Est1:\n",
            " MAGNITUD    CO   NO2\n",
            "MES                 \n",
            "1          NaN  10.5\n",
            "2         0.55   NaN\n"
          ]
        }
      ]
    }
  ]
}